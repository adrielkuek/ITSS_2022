{
 "cells": [
  {
   "cell_type": "markdown",
   "metadata": {},
   "source": [
    "# Intelligent Crowd Scene Analytics\n",
    "## Intelligent Sensing Systems Practice Module 2022\n",
    "\n",
    "## Analytics engine capable of providing persistent monitoring on both indoor and outdoor static CCTVs to provide higher-order insights on crowd social behaviour\n",
    "## Modules include:\n",
    "#### - Social Distancing Monitoring (COVID-19)\n",
    "#### - Crowd Management (Crowd Counting)\n",
    "#### - Crowd Anomaly (Flow Estimation/Stampede Alert)\n",
    "#### - Fall Detection (Medical Emergencies)\n",
    "#### - Violent Behaviour Detection (Fighting, assualt)\n",
    "\n",
    "### Team: Adriel Kuek, Chua Hao Zi, KC lim & Yap Pow Look"
   ]
  },
  {
   "cell_type": "code",
   "execution_count": 2,
   "metadata": {},
   "outputs": [
    {
     "name": "stdout",
     "output_type": "stream",
     "text": [
      "Setup complete. Using torch 1.10.2+cu102 (TITAN Xp)\n"
     ]
    },
    {
     "name": "stderr",
     "output_type": "stream",
     "text": [
      "/home/user/Adriel/MTech-IS/GradCert_IntelligentSensing/ITSS_PracticeModule/Yolov5_DeepSort_Pytorch/deep_sort/deep/reid/torchreid/metrics/rank.py:11: UserWarning: Cython evaluation (very fast so highly recommended) is unavailable, now use python evaluation.\n",
      "  warnings.warn(\n"
     ]
    }
   ],
   "source": [
    "# Import\n",
    "import torch\n",
    "from IPython.display import Image, clear_output\n",
    "\n",
    "clear_output()\n",
    "print(f\"Setup complete. Using torch {torch.__version__} ({torch.cuda.get_device_properties(0).name if torch.cuda.is_available() else 'CPU'})\")\n",
    "\n",
    "# limit the number of cpus used by high performance libraries\n",
    "import os\n",
    "os.environ[\"OMP_NUM_THREADS\"] = \"1\"\n",
    "os.environ[\"OPENBLAS_NUM_THREADS\"] = \"1\"\n",
    "os.environ[\"MKL_NUM_THREADS\"] = \"1\"\n",
    "os.environ[\"VECLIB_MAXIMUM_THREADS\"] = \"1\"\n",
    "os.environ[\"NUMEXPR_NUM_THREADS\"] = \"1\"\n",
    "\n",
    "import sys\n",
    "sys.path.insert(0, './yolov5')\n",
    "\n",
    "import argparse\n",
    "import os\n",
    "import platform\n",
    "import shutil\n",
    "import time\n",
    "from pathlib import Path\n",
    "import cv2\n",
    "import torch\n",
    "import torch.backends.cudnn as cudnn\n",
    "\n",
    "from yolov5.models.experimental import attempt_load\n",
    "from yolov5.utils.downloads import attempt_download\n",
    "from yolov5.models.common import DetectMultiBackend\n",
    "from yolov5.utils.datasets import LoadImages, LoadStreams\n",
    "from yolov5.utils.general import (LOGGER, check_img_size, non_max_suppression, scale_coords, \n",
    "                                  check_imshow, xyxy2xywh, increment_path)\n",
    "from yolov5.utils.torch_utils import select_device, time_sync\n",
    "from yolov5.utils.plots import Annotator, colors\n",
    "from deep_sort.utils.parser import get_config\n",
    "from deep_sort.deep_sort import DeepSort\n",
    "\n",
    "# FILE = Path(__file__).resolve()\n",
    "ROOT = os.path.abspath('')\n",
    "if str(ROOT) not in sys.path:\n",
    "    sys.path.append(str(ROOT))  # add ROOT to PATH\n",
    "ROOT = Path(os.path.relpath(ROOT, Path.cwd()))  # relative\n",
    "\n",
    "device = torch.device('cuda' if torch.cuda.is_available() else 'cpu')"
   ]
  },
  {
   "cell_type": "markdown",
   "metadata": {},
   "source": [
    "# Initialise Models\n",
    "## YOLOv5 + DeepSORT"
   ]
  },
  {
   "cell_type": "code",
   "execution_count": 3,
   "metadata": {},
   "outputs": [
    {
     "name": "stderr",
     "output_type": "stream",
     "text": [
      "YOLOv5 🚀 v6.0-159-gdb6ec66 torch 1.10.2+cu102 CUDA:cuda (TITAN Xp, 12195MiB)\n",
      "\n"
     ]
    },
    {
     "name": "stdout",
     "output_type": "stream",
     "text": [
      "Successfully loaded imagenet pretrained weights from \"/home/user/.cache/torch/checkpoints/osnet_x0_25_imagenet.pth\"\n",
      "** The following layers are discarded due to unmatched keys or layer size: ['classifier.weight', 'classifier.bias']\n",
      "Model: osnet_x0_25\n",
      "- params: 203,568\n",
      "- flops: 82,316,000\n"
     ]
    },
    {
     "name": "stderr",
     "output_type": "stream",
     "text": [
      "Fusing layers... \n",
      "Model Summary: 308 layers, 21041679 parameters, 0 gradients\n"
     ]
    }
   ],
   "source": [
    "evaluate = True\n",
    "half = True\n",
    "output = 'output/'\n",
    "imgsz = [640, 640]\n",
    "device = select_device(device)\n",
    "\n",
    "# Initialise DeepSORT\n",
    "cfg = get_config()\n",
    "cfg.merge_from_file('deep_sort/configs/deep_sort.yaml')\n",
    "deepsort = DeepSort('osnet_x0_25',\n",
    "                    device,\n",
    "                    max_dist=cfg.DEEPSORT.MAX_DIST,\n",
    "                    max_iou_distance=cfg.DEEPSORT.MAX_IOU_DISTANCE,\n",
    "                    max_age=cfg.DEEPSORT.MAX_AGE,\n",
    "                    n_init=cfg.DEEPSORT.N_INIT,\n",
    "                    nn_budget=cfg.DEEPSORT.NN_BUDGET)\n",
    "\n",
    "# Initialise half precision - Only for CUDA enabled devices\n",
    "half &= device.type != 'cpu'\n",
    "\n",
    "# For MOT16 evaluation - Run multiple inference streams in parallel\n",
    "if not evaluate:\n",
    "    if os.path.exists(output):\n",
    "        pass\n",
    "        shutil.rmtree(output)\n",
    "    os.makedirs(output)\n",
    "\n",
    "# Directories\n",
    "save_dir = increment_path(Path(ROOT) / 'exp', exist_ok=True)\n",
    "save_dir.mkdir(parents=True, exist_ok=True)  # make dir\n",
    "\n",
    "# Load YOLO Model\n",
    "model = DetectMultiBackend('yolov5/models/crowdhuman_yolov5m.pt',\n",
    "                            device=device,\n",
    "                            dnn=True)\n",
    "stride, names, pt, jit, _ = model.stride, model.names, model.pt, model.jit, model.onnx\n",
    "imgsz = check_img_size(imgsz, s=stride)\n",
    "\n",
    "half &= pt and device.type != 'cpu'\n",
    "if pt:\n",
    "    model.model.half() if half else model.model.float()"
   ]
  },
  {
   "cell_type": "markdown",
   "metadata": {},
   "source": [
    "# Video Extraction Module\n",
    "## Extract video segment\n",
    "## Convert video to image frames"
   ]
  },
  {
   "cell_type": "code",
   "execution_count": 4,
   "metadata": {},
   "outputs": [
    {
     "name": "stdout",
     "output_type": "stream",
     "text": [
      "show_vid: True\n"
     ]
    }
   ],
   "source": [
    "show_vid = True\n",
    "\n",
    "# Video Source\n",
    "source = '/media/user/New Volume/MTech/ITSS/WildTrack_dataset/cam7_short1.mp4'\n",
    "\n",
    "# Set Dataloader\n",
    "vid_path, vid_writer = None, None\n",
    "\n",
    "# Check if environment supports image displays\n",
    "if show_vid:\n",
    "    show_vid = check_imshow()\n",
    "    print(f'show_vid: {show_vid}')\n",
    "\n",
    "# Dataloader\n",
    "dataset = LoadImages(source, img_size=imgsz, stride=stride, auto=pt and not jit)\n",
    "bs = 1  # batch_size\n",
    "vid_path, vid_writer = [None] * bs, [None] * bs"
   ]
  },
  {
   "cell_type": "code",
   "execution_count": 5,
   "metadata": {},
   "outputs": [],
   "source": [
    "# Get Names and Colours\n",
    "names = model.module.names if hasattr(model, 'module') else model.names\n",
    "\n",
    "# extract filename\n",
    "txt_file_name = source.split('/')[-1].split('.')[0]\n",
    "txt_path = str(Path(save_dir)) + '/' + txt_file_name + '.txt'\n",
    "\n",
    "if pt and device.type != 'cpu':\n",
    "    model(torch.zeros(1, 3, *imgsz).to(device).type_as(next(model.model.parameters())))  # warmup\n",
    "dt, seen = [0.0, 0.0, 0.0, 0.0], 0"
   ]
  },
  {
   "cell_type": "markdown",
   "metadata": {},
   "source": [
    "# Configure Detector parameters"
   ]
  },
  {
   "cell_type": "code",
   "execution_count": 6,
   "metadata": {},
   "outputs": [],
   "source": [
    "# Configuration\n",
    "augment = True          # Augmented inference\n",
    "visual = False          # Visualisation function - Set this to false as default\n",
    "conf_thres = 0.3        # Object confidence threshold\n",
    "iou_thres = 0.5         # IOU Threshold for NMS\n",
    "classes = 0             # Filter for class 0 - Person\n",
    "agnostic_nms = True     # Class agnostic NMS\n",
    "max_det = 1000          # Max number of detections per image\n",
    "save_txt = True\n",
    "save_vid = True"
   ]
  },
  {
   "cell_type": "markdown",
   "metadata": {},
   "source": [
    "# Iterate across images stored in pytorch dataloader and perform detection and tracking"
   ]
  },
  {
   "cell_type": "code",
   "execution_count": 7,
   "metadata": {},
   "outputs": [
    {
     "name": "stdout",
     "output_type": "stream",
     "text": [
      "visualise:False\n"
     ]
    },
    {
     "name": "stderr",
     "output_type": "stream",
     "text": [
      "video 1/1 (1/4847) /media/user/New Volume/MTech/ITSS/WildTrack_dataset/cam7_short1.mp4: 384x640 35 persons, Done. YOLO:(0.039s), DeepSort:(0.068s)\n"
     ]
    },
    {
     "name": "stdout",
     "output_type": "stream",
     "text": [
      "visualise:False\n"
     ]
    },
    {
     "name": "stderr",
     "output_type": "stream",
     "text": [
      "video 1/1 (2/4847) /media/user/New Volume/MTech/ITSS/WildTrack_dataset/cam7_short1.mp4: 384x640 34 persons, Done. YOLO:(0.038s), DeepSort:(0.089s)\n"
     ]
    },
    {
     "name": "stdout",
     "output_type": "stream",
     "text": [
      "visualise:False\n"
     ]
    },
    {
     "name": "stderr",
     "output_type": "stream",
     "text": [
      "video 1/1 (3/4847) /media/user/New Volume/MTech/ITSS/WildTrack_dataset/cam7_short1.mp4: 384x640 35 persons, Done. YOLO:(0.036s), DeepSort:(0.086s)\n"
     ]
    },
    {
     "name": "stdout",
     "output_type": "stream",
     "text": [
      "visualise:False\n"
     ]
    },
    {
     "name": "stderr",
     "output_type": "stream",
     "text": [
      "video 1/1 (4/4847) /media/user/New Volume/MTech/ITSS/WildTrack_dataset/cam7_short1.mp4: 384x640 40 persons, Done. YOLO:(0.037s), DeepSort:(0.093s)\n"
     ]
    },
    {
     "name": "stdout",
     "output_type": "stream",
     "text": [
      "visualise:False\n"
     ]
    },
    {
     "name": "stderr",
     "output_type": "stream",
     "text": [
      "video 1/1 (5/4847) /media/user/New Volume/MTech/ITSS/WildTrack_dataset/cam7_short1.mp4: 384x640 36 persons, Done. YOLO:(0.035s), DeepSort:(0.097s)\n"
     ]
    },
    {
     "name": "stdout",
     "output_type": "stream",
     "text": [
      "visualise:False\n"
     ]
    },
    {
     "name": "stderr",
     "output_type": "stream",
     "text": [
      "video 1/1 (6/4847) /media/user/New Volume/MTech/ITSS/WildTrack_dataset/cam7_short1.mp4: 384x640 36 persons, Done. YOLO:(0.033s), DeepSort:(0.080s)\n"
     ]
    },
    {
     "name": "stdout",
     "output_type": "stream",
     "text": [
      "visualise:False\n"
     ]
    },
    {
     "name": "stderr",
     "output_type": "stream",
     "text": [
      "video 1/1 (7/4847) /media/user/New Volume/MTech/ITSS/WildTrack_dataset/cam7_short1.mp4: 384x640 35 persons, Done. YOLO:(0.033s), DeepSort:(0.094s)\n"
     ]
    },
    {
     "name": "stdout",
     "output_type": "stream",
     "text": [
      "visualise:False\n"
     ]
    },
    {
     "name": "stderr",
     "output_type": "stream",
     "text": [
      "video 1/1 (8/4847) /media/user/New Volume/MTech/ITSS/WildTrack_dataset/cam7_short1.mp4: 384x640 37 persons, Done. YOLO:(0.034s), DeepSort:(0.097s)\n"
     ]
    },
    {
     "name": "stdout",
     "output_type": "stream",
     "text": [
      "visualise:False\n"
     ]
    },
    {
     "name": "stderr",
     "output_type": "stream",
     "text": [
      "video 1/1 (9/4847) /media/user/New Volume/MTech/ITSS/WildTrack_dataset/cam7_short1.mp4: 384x640 36 persons, Done. YOLO:(0.033s), DeepSort:(0.095s)\n"
     ]
    },
    {
     "name": "stdout",
     "output_type": "stream",
     "text": [
      "visualise:False\n"
     ]
    },
    {
     "name": "stderr",
     "output_type": "stream",
     "text": [
      "video 1/1 (10/4847) /media/user/New Volume/MTech/ITSS/WildTrack_dataset/cam7_short1.mp4: 384x640 35 persons, Done. YOLO:(0.033s), DeepSort:(0.080s)\n"
     ]
    },
    {
     "name": "stdout",
     "output_type": "stream",
     "text": [
      "visualise:False\n"
     ]
    },
    {
     "name": "stderr",
     "output_type": "stream",
     "text": [
      "video 1/1 (11/4847) /media/user/New Volume/MTech/ITSS/WildTrack_dataset/cam7_short1.mp4: 384x640 37 persons, Done. YOLO:(0.033s), DeepSort:(0.084s)\n"
     ]
    },
    {
     "name": "stdout",
     "output_type": "stream",
     "text": [
      "visualise:False\n"
     ]
    },
    {
     "name": "stderr",
     "output_type": "stream",
     "text": [
      "video 1/1 (12/4847) /media/user/New Volume/MTech/ITSS/WildTrack_dataset/cam7_short1.mp4: 384x640 34 persons, Done. YOLO:(0.033s), DeepSort:(0.086s)\n"
     ]
    },
    {
     "name": "stdout",
     "output_type": "stream",
     "text": [
      "visualise:False\n"
     ]
    },
    {
     "name": "stderr",
     "output_type": "stream",
     "text": [
      "video 1/1 (13/4847) /media/user/New Volume/MTech/ITSS/WildTrack_dataset/cam7_short1.mp4: 384x640 34 persons, Done. YOLO:(0.033s), DeepSort:(0.083s)\n"
     ]
    },
    {
     "name": "stdout",
     "output_type": "stream",
     "text": [
      "visualise:False\n"
     ]
    },
    {
     "name": "stderr",
     "output_type": "stream",
     "text": [
      "video 1/1 (14/4847) /media/user/New Volume/MTech/ITSS/WildTrack_dataset/cam7_short1.mp4: 384x640 35 persons, Done. YOLO:(0.034s), DeepSort:(0.100s)\n"
     ]
    },
    {
     "name": "stdout",
     "output_type": "stream",
     "text": [
      "visualise:False\n"
     ]
    },
    {
     "name": "stderr",
     "output_type": "stream",
     "text": [
      "video 1/1 (15/4847) /media/user/New Volume/MTech/ITSS/WildTrack_dataset/cam7_short1.mp4: 384x640 37 persons, Done. YOLO:(0.031s), DeepSort:(0.128s)\n"
     ]
    },
    {
     "name": "stdout",
     "output_type": "stream",
     "text": [
      "visualise:False"
     ]
    },
    {
     "name": "stderr",
     "output_type": "stream",
     "text": [
      "video 1/1 (16/4847) /media/user/New Volume/MTech/ITSS/WildTrack_dataset/cam7_short1.mp4: 384x640 38 persons, Done. YOLO:(0.051s), DeepSort:(0.120s)\n"
     ]
    },
    {
     "name": "stdout",
     "output_type": "stream",
     "text": [
      "\n"
     ]
    },
    {
     "name": "stderr",
     "output_type": "stream",
     "text": [
      "video 1/1 (17/4847) /media/user/New Volume/MTech/ITSS/WildTrack_dataset/cam7_short1.mp4: 384x640 36 persons, Done. YOLO:(0.043s), DeepSort:(0.121s)\n"
     ]
    },
    {
     "name": "stdout",
     "output_type": "stream",
     "text": [
      "visualise:False\n"
     ]
    },
    {
     "name": "stderr",
     "output_type": "stream",
     "text": [
      "video 1/1 (18/4847) /media/user/New Volume/MTech/ITSS/WildTrack_dataset/cam7_short1.mp4: 384x640 36 persons, Done. YOLO:(0.045s), DeepSort:(0.090s)\n"
     ]
    },
    {
     "name": "stdout",
     "output_type": "stream",
     "text": [
      "visualise:False\n",
      "visualise:False\n"
     ]
    },
    {
     "name": "stderr",
     "output_type": "stream",
     "text": [
      "video 1/1 (19/4847) /media/user/New Volume/MTech/ITSS/WildTrack_dataset/cam7_short1.mp4: 384x640 38 persons, Done. YOLO:(0.042s), DeepSort:(0.108s)\n",
      "video 1/1 (20/4847) /media/user/New Volume/MTech/ITSS/WildTrack_dataset/cam7_short1.mp4: 384x640 40 persons, Done. YOLO:(0.041s), DeepSort:(0.090s)\n"
     ]
    },
    {
     "name": "stdout",
     "output_type": "stream",
     "text": [
      "visualise:False\n",
      "visualise:False\n"
     ]
    },
    {
     "name": "stderr",
     "output_type": "stream",
     "text": [
      "video 1/1 (21/4847) /media/user/New Volume/MTech/ITSS/WildTrack_dataset/cam7_short1.mp4: 384x640 43 persons, Done. YOLO:(0.038s), DeepSort:(0.103s)\n",
      "video 1/1 (22/4847) /media/user/New Volume/MTech/ITSS/WildTrack_dataset/cam7_short1.mp4: 384x640 39 persons, Done. YOLO:(0.038s), DeepSort:(0.097s)\n"
     ]
    },
    {
     "name": "stdout",
     "output_type": "stream",
     "text": [
      "visualise:False\n",
      "visualise:False\n"
     ]
    },
    {
     "name": "stderr",
     "output_type": "stream",
     "text": [
      "video 1/1 (23/4847) /media/user/New Volume/MTech/ITSS/WildTrack_dataset/cam7_short1.mp4: 384x640 43 persons, Done. YOLO:(0.063s), DeepSort:(0.097s)\n",
      "video 1/1 (24/4847) /media/user/New Volume/MTech/ITSS/WildTrack_dataset/cam7_short1.mp4: 384x640 46 persons, Done. YOLO:(0.041s), DeepSort:(0.114s)\n"
     ]
    },
    {
     "name": "stdout",
     "output_type": "stream",
     "text": [
      "visualise:False\n"
     ]
    },
    {
     "name": "stderr",
     "output_type": "stream",
     "text": [
      "video 1/1 (25/4847) /media/user/New Volume/MTech/ITSS/WildTrack_dataset/cam7_short1.mp4: 384x640 43 persons, Done. YOLO:(0.036s), DeepSort:(0.119s)\n"
     ]
    },
    {
     "name": "stdout",
     "output_type": "stream",
     "text": [
      "visualise:False\n",
      "visualise:False\n"
     ]
    },
    {
     "name": "stderr",
     "output_type": "stream",
     "text": [
      "video 1/1 (26/4847) /media/user/New Volume/MTech/ITSS/WildTrack_dataset/cam7_short1.mp4: 384x640 40 persons, Done. YOLO:(0.050s), DeepSort:(0.118s)\n",
      "video 1/1 (27/4847) /media/user/New Volume/MTech/ITSS/WildTrack_dataset/cam7_short1.mp4: 384x640 43 persons, Done. YOLO:(0.050s), DeepSort:(0.124s)\n"
     ]
    },
    {
     "name": "stdout",
     "output_type": "stream",
     "text": [
      "visualise:False\n"
     ]
    },
    {
     "name": "stderr",
     "output_type": "stream",
     "text": [
      "video 1/1 (28/4847) /media/user/New Volume/MTech/ITSS/WildTrack_dataset/cam7_short1.mp4: 384x640 43 persons, Done. YOLO:(0.051s), DeepSort:(0.107s)\n"
     ]
    },
    {
     "name": "stdout",
     "output_type": "stream",
     "text": [
      "visualise:False\n",
      "visualise:False\n"
     ]
    },
    {
     "name": "stderr",
     "output_type": "stream",
     "text": [
      "video 1/1 (29/4847) /media/user/New Volume/MTech/ITSS/WildTrack_dataset/cam7_short1.mp4: 384x640 46 persons, Done. YOLO:(0.055s), DeepSort:(0.107s)\n",
      "video 1/1 (30/4847) /media/user/New Volume/MTech/ITSS/WildTrack_dataset/cam7_short1.mp4: 384x640 46 persons, Done. YOLO:(0.039s), DeepSort:(0.105s)\n"
     ]
    },
    {
     "name": "stdout",
     "output_type": "stream",
     "text": [
      "visualise:False\n",
      "visualise:False\n"
     ]
    },
    {
     "name": "stderr",
     "output_type": "stream",
     "text": [
      "video 1/1 (31/4847) /media/user/New Volume/MTech/ITSS/WildTrack_dataset/cam7_short1.mp4: 384x640 45 persons, Done. YOLO:(0.043s), DeepSort:(0.102s)\n",
      "video 1/1 (32/4847) /media/user/New Volume/MTech/ITSS/WildTrack_dataset/cam7_short1.mp4: 384x640 43 persons, Done. YOLO:(0.042s), DeepSort:(0.098s)\n"
     ]
    },
    {
     "name": "stdout",
     "output_type": "stream",
     "text": [
      "visualise:False\n",
      "visualise:False\n"
     ]
    },
    {
     "name": "stderr",
     "output_type": "stream",
     "text": [
      "video 1/1 (33/4847) /media/user/New Volume/MTech/ITSS/WildTrack_dataset/cam7_short1.mp4: 384x640 43 persons, Done. YOLO:(0.042s), DeepSort:(0.111s)\n",
      "video 1/1 (34/4847) /media/user/New Volume/MTech/ITSS/WildTrack_dataset/cam7_short1.mp4: 384x640 41 persons, Done. YOLO:(0.035s), DeepSort:(0.119s)\n"
     ]
    },
    {
     "name": "stdout",
     "output_type": "stream",
     "text": [
      "visualise:False\n"
     ]
    },
    {
     "name": "stderr",
     "output_type": "stream",
     "text": [
      "video 1/1 (35/4847) /media/user/New Volume/MTech/ITSS/WildTrack_dataset/cam7_short1.mp4: 384x640 41 persons, Done. YOLO:(0.040s), DeepSort:(0.099s)\n"
     ]
    },
    {
     "name": "stdout",
     "output_type": "stream",
     "text": [
      "visualise:False\n",
      "visualise:False\n"
     ]
    },
    {
     "name": "stderr",
     "output_type": "stream",
     "text": [
      "video 1/1 (36/4847) /media/user/New Volume/MTech/ITSS/WildTrack_dataset/cam7_short1.mp4: 384x640 41 persons, Done. YOLO:(0.043s), DeepSort:(0.112s)\n"
     ]
    },
    {
     "name": "stdout",
     "output_type": "stream",
     "text": [
      "visualise:False\n"
     ]
    },
    {
     "name": "stderr",
     "output_type": "stream",
     "text": [
      "video 1/1 (37/4847) /media/user/New Volume/MTech/ITSS/WildTrack_dataset/cam7_short1.mp4: 384x640 43 persons, Done. YOLO:(0.047s), DeepSort:(0.130s)\n",
      "video 1/1 (38/4847) /media/user/New Volume/MTech/ITSS/WildTrack_dataset/cam7_short1.mp4: 384x640 40 persons, Done. YOLO:(0.032s), DeepSort:(0.100s)\n"
     ]
    },
    {
     "name": "stdout",
     "output_type": "stream",
     "text": [
      "visualise:False\n",
      "visualise:False\n"
     ]
    },
    {
     "name": "stderr",
     "output_type": "stream",
     "text": [
      "video 1/1 (39/4847) /media/user/New Volume/MTech/ITSS/WildTrack_dataset/cam7_short1.mp4: 384x640 40 persons, Done. YOLO:(0.043s), DeepSort:(0.110s)\n",
      "video 1/1 (40/4847) /media/user/New Volume/MTech/ITSS/WildTrack_dataset/cam7_short1.mp4: 384x640 39 persons, Done. YOLO:(0.043s), DeepSort:(0.105s)\n"
     ]
    },
    {
     "name": "stdout",
     "output_type": "stream",
     "text": [
      "visualise:False\n",
      "visualise:False\n"
     ]
    },
    {
     "name": "stderr",
     "output_type": "stream",
     "text": [
      "video 1/1 (41/4847) /media/user/New Volume/MTech/ITSS/WildTrack_dataset/cam7_short1.mp4: 384x640 37 persons, Done. YOLO:(0.039s), DeepSort:(0.096s)\n",
      "video 1/1 (42/4847) /media/user/New Volume/MTech/ITSS/WildTrack_dataset/cam7_short1.mp4: 384x640 37 persons, Done. YOLO:(0.049s), DeepSort:(0.112s)\n"
     ]
    },
    {
     "name": "stdout",
     "output_type": "stream",
     "text": [
      "visualise:False\n"
     ]
    },
    {
     "name": "stderr",
     "output_type": "stream",
     "text": [
      "video 1/1 (43/4847) /media/user/New Volume/MTech/ITSS/WildTrack_dataset/cam7_short1.mp4: 384x640 37 persons, Done. YOLO:(0.040s), DeepSort:(0.097s)\n"
     ]
    },
    {
     "name": "stdout",
     "output_type": "stream",
     "text": [
      "visualise:False\n",
      "visualise:False\n"
     ]
    },
    {
     "name": "stderr",
     "output_type": "stream",
     "text": [
      "video 1/1 (44/4847) /media/user/New Volume/MTech/ITSS/WildTrack_dataset/cam7_short1.mp4: 384x640 38 persons, Done. YOLO:(0.036s), DeepSort:(0.093s)\n",
      "video 1/1 (45/4847) /media/user/New Volume/MTech/ITSS/WildTrack_dataset/cam7_short1.mp4: 384x640 40 persons, Done. YOLO:(0.042s), DeepSort:(0.113s)\n"
     ]
    },
    {
     "name": "stdout",
     "output_type": "stream",
     "text": [
      "visualise:False\n",
      "visualise:False\n"
     ]
    },
    {
     "name": "stderr",
     "output_type": "stream",
     "text": [
      "video 1/1 (46/4847) /media/user/New Volume/MTech/ITSS/WildTrack_dataset/cam7_short1.mp4: 384x640 39 persons, Done. YOLO:(0.047s), DeepSort:(0.160s)\n"
     ]
    },
    {
     "name": "stdout",
     "output_type": "stream",
     "text": [
      "visualise:False\n"
     ]
    },
    {
     "name": "stderr",
     "output_type": "stream",
     "text": [
      "video 1/1 (47/4847) /media/user/New Volume/MTech/ITSS/WildTrack_dataset/cam7_short1.mp4: 384x640 40 persons, Done. YOLO:(0.038s), DeepSort:(0.258s)\n",
      "video 1/1 (48/4847) /media/user/New Volume/MTech/ITSS/WildTrack_dataset/cam7_short1.mp4: 384x640 43 persons, Done. YOLO:(0.033s), DeepSort:(0.129s)\n"
     ]
    },
    {
     "name": "stdout",
     "output_type": "stream",
     "text": [
      "visualise:False\n",
      "visualise:False\n"
     ]
    },
    {
     "name": "stderr",
     "output_type": "stream",
     "text": [
      "video 1/1 (49/4847) /media/user/New Volume/MTech/ITSS/WildTrack_dataset/cam7_short1.mp4: 384x640 42 persons, Done. YOLO:(0.047s), DeepSort:(0.107s)\n"
     ]
    },
    {
     "name": "stdout",
     "output_type": "stream",
     "text": [
      "visualise:False\n"
     ]
    },
    {
     "name": "stderr",
     "output_type": "stream",
     "text": [
      "video 1/1 (50/4847) /media/user/New Volume/MTech/ITSS/WildTrack_dataset/cam7_short1.mp4: 384x640 43 persons, Done. YOLO:(0.042s), DeepSort:(0.125s)\n"
     ]
    },
    {
     "name": "stdout",
     "output_type": "stream",
     "text": [
      "visualise:False\n"
     ]
    },
    {
     "name": "stderr",
     "output_type": "stream",
     "text": [
      "video 1/1 (51/4847) /media/user/New Volume/MTech/ITSS/WildTrack_dataset/cam7_short1.mp4: 384x640 44 persons, Done. YOLO:(0.033s), DeepSort:(0.177s)\n",
      "video 1/1 (52/4847) /media/user/New Volume/MTech/ITSS/WildTrack_dataset/cam7_short1.mp4: 384x640 39 persons, Done. YOLO:(0.032s), DeepSort:(0.113s)\n"
     ]
    },
    {
     "name": "stdout",
     "output_type": "stream",
     "text": [
      "visualise:False\n",
      "visualise:False\n"
     ]
    },
    {
     "name": "stderr",
     "output_type": "stream",
     "text": [
      "video 1/1 (53/4847) /media/user/New Volume/MTech/ITSS/WildTrack_dataset/cam7_short1.mp4: 384x640 38 persons, Done. YOLO:(0.046s), DeepSort:(0.117s)\n",
      "video 1/1 (54/4847) /media/user/New Volume/MTech/ITSS/WildTrack_dataset/cam7_short1.mp4: 384x640 38 persons, Done. YOLO:(0.047s), DeepSort:(0.105s)\n"
     ]
    },
    {
     "name": "stdout",
     "output_type": "stream",
     "text": [
      "visualise:False\n",
      "visualise:False\n"
     ]
    },
    {
     "name": "stderr",
     "output_type": "stream",
     "text": [
      "video 1/1 (55/4847) /media/user/New Volume/MTech/ITSS/WildTrack_dataset/cam7_short1.mp4: 384x640 40 persons, Done. YOLO:(0.043s), DeepSort:(0.119s)\n",
      "video 1/1 (56/4847) /media/user/New Volume/MTech/ITSS/WildTrack_dataset/cam7_short1.mp4: 384x640 42 persons, Done. YOLO:(0.050s), DeepSort:(0.118s)\n"
     ]
    },
    {
     "name": "stdout",
     "output_type": "stream",
     "text": [
      "visualise:False\n",
      "visualise:False\n"
     ]
    },
    {
     "name": "stderr",
     "output_type": "stream",
     "text": [
      "video 1/1 (57/4847) /media/user/New Volume/MTech/ITSS/WildTrack_dataset/cam7_short1.mp4: 384x640 42 persons, Done. YOLO:(0.046s), DeepSort:(0.108s)\n",
      "video 1/1 (58/4847) /media/user/New Volume/MTech/ITSS/WildTrack_dataset/cam7_short1.mp4: 384x640 41 persons, Done. YOLO:(0.054s), DeepSort:(0.111s)\n"
     ]
    },
    {
     "name": "stdout",
     "output_type": "stream",
     "text": [
      "visualise:False\n"
     ]
    },
    {
     "name": "stderr",
     "output_type": "stream",
     "text": [
      "video 1/1 (59/4847) /media/user/New Volume/MTech/ITSS/WildTrack_dataset/cam7_short1.mp4: 384x640 42 persons, Done. YOLO:(0.037s), DeepSort:(0.106s)\n"
     ]
    },
    {
     "name": "stdout",
     "output_type": "stream",
     "text": [
      "visualise:False\n",
      "visualise:False\n"
     ]
    },
    {
     "name": "stderr",
     "output_type": "stream",
     "text": [
      "video 1/1 (60/4847) /media/user/New Volume/MTech/ITSS/WildTrack_dataset/cam7_short1.mp4: 384x640 41 persons, Done. YOLO:(0.044s), DeepSort:(0.143s)\n",
      "video 1/1 (61/4847) /media/user/New Volume/MTech/ITSS/WildTrack_dataset/cam7_short1.mp4: 384x640 37 persons, Done. YOLO:(0.037s), DeepSort:(0.103s)\n"
     ]
    },
    {
     "name": "stdout",
     "output_type": "stream",
     "text": [
      "visualise:False\n",
      "visualise:False\n"
     ]
    },
    {
     "name": "stderr",
     "output_type": "stream",
     "text": [
      "video 1/1 (62/4847) /media/user/New Volume/MTech/ITSS/WildTrack_dataset/cam7_short1.mp4: 384x640 40 persons, Done. YOLO:(0.042s), DeepSort:(0.135s)\n",
      "video 1/1 (63/4847) /media/user/New Volume/MTech/ITSS/WildTrack_dataset/cam7_short1.mp4: 384x640 37 persons, Done. YOLO:(0.041s), DeepSort:(0.119s)\n"
     ]
    },
    {
     "name": "stdout",
     "output_type": "stream",
     "text": [
      "visualise:False\n"
     ]
    },
    {
     "name": "stderr",
     "output_type": "stream",
     "text": [
      "video 1/1 (64/4847) /media/user/New Volume/MTech/ITSS/WildTrack_dataset/cam7_short1.mp4: 384x640 40 persons, Done. YOLO:(0.039s), DeepSort:(0.104s)\n"
     ]
    },
    {
     "name": "stdout",
     "output_type": "stream",
     "text": [
      "visualise:False\n",
      "visualise:False\n"
     ]
    },
    {
     "name": "stderr",
     "output_type": "stream",
     "text": [
      "video 1/1 (65/4847) /media/user/New Volume/MTech/ITSS/WildTrack_dataset/cam7_short1.mp4: 384x640 39 persons, Done. YOLO:(0.043s), DeepSort:(0.118s)\n",
      "video 1/1 (66/4847) /media/user/New Volume/MTech/ITSS/WildTrack_dataset/cam7_short1.mp4: 384x640 39 persons, Done. YOLO:(0.044s), DeepSort:(0.117s)\n"
     ]
    },
    {
     "name": "stdout",
     "output_type": "stream",
     "text": [
      "visualise:False\n",
      "visualise:False\n"
     ]
    },
    {
     "name": "stderr",
     "output_type": "stream",
     "text": [
      "video 1/1 (67/4847) /media/user/New Volume/MTech/ITSS/WildTrack_dataset/cam7_short1.mp4: 384x640 42 persons, Done. YOLO:(0.046s), DeepSort:(0.124s)\n",
      "video 1/1 (68/4847) /media/user/New Volume/MTech/ITSS/WildTrack_dataset/cam7_short1.mp4: 384x640 38 persons, Done. YOLO:(0.039s), DeepSort:(0.108s)\n"
     ]
    },
    {
     "name": "stdout",
     "output_type": "stream",
     "text": [
      "visualise:False\n",
      "visualise:False\n"
     ]
    },
    {
     "name": "stderr",
     "output_type": "stream",
     "text": [
      "video 1/1 (69/4847) /media/user/New Volume/MTech/ITSS/WildTrack_dataset/cam7_short1.mp4: 384x640 39 persons, Done. YOLO:(0.043s), DeepSort:(0.103s)\n",
      "video 1/1 (70/4847) /media/user/New Volume/MTech/ITSS/WildTrack_dataset/cam7_short1.mp4: 384x640 38 persons, Done. YOLO:(0.047s), DeepSort:(0.101s)\n"
     ]
    },
    {
     "name": "stdout",
     "output_type": "stream",
     "text": [
      "visualise:False\n",
      "visualise:False\n"
     ]
    },
    {
     "name": "stderr",
     "output_type": "stream",
     "text": [
      "video 1/1 (71/4847) /media/user/New Volume/MTech/ITSS/WildTrack_dataset/cam7_short1.mp4: 384x640 39 persons, Done. YOLO:(0.051s), DeepSort:(0.122s)\n"
     ]
    },
    {
     "name": "stdout",
     "output_type": "stream",
     "text": [
      "visualise:False\n"
     ]
    },
    {
     "name": "stderr",
     "output_type": "stream",
     "text": [
      "video 1/1 (72/4847) /media/user/New Volume/MTech/ITSS/WildTrack_dataset/cam7_short1.mp4: 384x640 39 persons, Done. YOLO:(0.043s), DeepSort:(0.132s)\n",
      "video 1/1 (73/4847) /media/user/New Volume/MTech/ITSS/WildTrack_dataset/cam7_short1.mp4: 384x640 41 persons, Done. YOLO:(0.034s), DeepSort:(0.138s)\n"
     ]
    },
    {
     "name": "stdout",
     "output_type": "stream",
     "text": [
      "visualise:False\n"
     ]
    },
    {
     "name": "stderr",
     "output_type": "stream",
     "text": [
      "video 1/1 (74/4847) /media/user/New Volume/MTech/ITSS/WildTrack_dataset/cam7_short1.mp4: 384x640 39 persons, Done. YOLO:(0.038s), DeepSort:(0.115s)\n"
     ]
    },
    {
     "name": "stdout",
     "output_type": "stream",
     "text": [
      "visualise:False\n",
      "visualise:False\n"
     ]
    },
    {
     "name": "stderr",
     "output_type": "stream",
     "text": [
      "video 1/1 (75/4847) /media/user/New Volume/MTech/ITSS/WildTrack_dataset/cam7_short1.mp4: 384x640 38 persons, Done. YOLO:(0.053s), DeepSort:(0.142s)\n"
     ]
    },
    {
     "name": "stdout",
     "output_type": "stream",
     "text": [
      "visualise:False\n"
     ]
    },
    {
     "name": "stderr",
     "output_type": "stream",
     "text": [
      "video 1/1 (76/4847) /media/user/New Volume/MTech/ITSS/WildTrack_dataset/cam7_short1.mp4: 384x640 39 persons, Done. YOLO:(0.052s), DeepSort:(0.134s)\n"
     ]
    },
    {
     "name": "stdout",
     "output_type": "stream",
     "text": [
      "visualise:False\n"
     ]
    },
    {
     "name": "stderr",
     "output_type": "stream",
     "text": [
      "video 1/1 (77/4847) /media/user/New Volume/MTech/ITSS/WildTrack_dataset/cam7_short1.mp4: 384x640 38 persons, Done. YOLO:(0.035s), DeepSort:(0.179s)\n",
      "video 1/1 (78/4847) /media/user/New Volume/MTech/ITSS/WildTrack_dataset/cam7_short1.mp4: 384x640 37 persons, Done. YOLO:(0.041s), DeepSort:(0.117s)\n"
     ]
    },
    {
     "name": "stdout",
     "output_type": "stream",
     "text": [
      "visualise:False\n"
     ]
    },
    {
     "name": "stderr",
     "output_type": "stream",
     "text": [
      "video 1/1 (79/4847) /media/user/New Volume/MTech/ITSS/WildTrack_dataset/cam7_short1.mp4: 384x640 38 persons, Done. YOLO:(0.047s), DeepSort:(0.111s)\n"
     ]
    },
    {
     "name": "stdout",
     "output_type": "stream",
     "text": [
      "visualise:False\n"
     ]
    },
    {
     "name": "stderr",
     "output_type": "stream",
     "text": [
      "video 1/1 (80/4847) /media/user/New Volume/MTech/ITSS/WildTrack_dataset/cam7_short1.mp4: 384x640 40 persons, Done. YOLO:(0.040s), DeepSort:(0.122s)\n"
     ]
    },
    {
     "name": "stdout",
     "output_type": "stream",
     "text": [
      "visualise:False\n"
     ]
    },
    {
     "name": "stderr",
     "output_type": "stream",
     "text": [
      "video 1/1 (81/4847) /media/user/New Volume/MTech/ITSS/WildTrack_dataset/cam7_short1.mp4: 384x640 39 persons, Done. YOLO:(0.044s), DeepSort:(0.129s)\n"
     ]
    },
    {
     "name": "stdout",
     "output_type": "stream",
     "text": [
      "visualise:False\n",
      "visualise:False\n"
     ]
    },
    {
     "name": "stderr",
     "output_type": "stream",
     "text": [
      "video 1/1 (82/4847) /media/user/New Volume/MTech/ITSS/WildTrack_dataset/cam7_short1.mp4: 384x640 39 persons, Done. YOLO:(0.035s), DeepSort:(0.163s)\n",
      "video 1/1 (83/4847) /media/user/New Volume/MTech/ITSS/WildTrack_dataset/cam7_short1.mp4: 384x640 40 persons, Done. YOLO:(0.044s), DeepSort:(0.123s)\n"
     ]
    },
    {
     "name": "stdout",
     "output_type": "stream",
     "text": [
      "visualise:False\n"
     ]
    },
    {
     "name": "stderr",
     "output_type": "stream",
     "text": [
      "video 1/1 (84/4847) /media/user/New Volume/MTech/ITSS/WildTrack_dataset/cam7_short1.mp4: 384x640 39 persons, Done. YOLO:(0.051s), DeepSort:(0.103s)\n"
     ]
    },
    {
     "name": "stdout",
     "output_type": "stream",
     "text": [
      "visualise:False\n",
      "visualise:False\n"
     ]
    },
    {
     "name": "stderr",
     "output_type": "stream",
     "text": [
      "video 1/1 (85/4847) /media/user/New Volume/MTech/ITSS/WildTrack_dataset/cam7_short1.mp4: 384x640 40 persons, Done. YOLO:(0.053s), DeepSort:(0.105s)\n",
      "video 1/1 (86/4847) /media/user/New Volume/MTech/ITSS/WildTrack_dataset/cam7_short1.mp4: 384x640 43 persons, Done. YOLO:(0.048s), DeepSort:(0.140s)\n"
     ]
    },
    {
     "name": "stdout",
     "output_type": "stream",
     "text": [
      "visualise:False\n"
     ]
    },
    {
     "name": "stderr",
     "output_type": "stream",
     "text": [
      "video 1/1 (87/4847) /media/user/New Volume/MTech/ITSS/WildTrack_dataset/cam7_short1.mp4: 384x640 43 persons, Done. YOLO:(0.044s), DeepSort:(0.129s)\n"
     ]
    },
    {
     "name": "stdout",
     "output_type": "stream",
     "text": [
      "visualise:False\n"
     ]
    },
    {
     "name": "stderr",
     "output_type": "stream",
     "text": [
      "video 1/1 (88/4847) /media/user/New Volume/MTech/ITSS/WildTrack_dataset/cam7_short1.mp4: 384x640 44 persons, Done. YOLO:(0.035s), DeepSort:(0.125s)\n"
     ]
    },
    {
     "name": "stdout",
     "output_type": "stream",
     "text": [
      "visualise:False\n"
     ]
    },
    {
     "name": "stderr",
     "output_type": "stream",
     "text": [
      "video 1/1 (89/4847) /media/user/New Volume/MTech/ITSS/WildTrack_dataset/cam7_short1.mp4: 384x640 40 persons, Done. YOLO:(0.041s), DeepSort:(0.108s)\n"
     ]
    },
    {
     "name": "stdout",
     "output_type": "stream",
     "text": [
      "visualise:False\n",
      "visualise:False\n"
     ]
    },
    {
     "name": "stderr",
     "output_type": "stream",
     "text": [
      "video 1/1 (90/4847) /media/user/New Volume/MTech/ITSS/WildTrack_dataset/cam7_short1.mp4: 384x640 41 persons, Done. YOLO:(0.039s), DeepSort:(0.110s)\n"
     ]
    },
    {
     "name": "stdout",
     "output_type": "stream",
     "text": [
      "visualise:False\n"
     ]
    },
    {
     "name": "stderr",
     "output_type": "stream",
     "text": [
      "video 1/1 (91/4847) /media/user/New Volume/MTech/ITSS/WildTrack_dataset/cam7_short1.mp4: 384x640 38 persons, Done. YOLO:(0.042s), DeepSort:(0.159s)\n"
     ]
    },
    {
     "name": "stdout",
     "output_type": "stream",
     "text": [
      "visualise:False\n"
     ]
    },
    {
     "name": "stderr",
     "output_type": "stream",
     "text": [
      "video 1/1 (92/4847) /media/user/New Volume/MTech/ITSS/WildTrack_dataset/cam7_short1.mp4: 384x640 38 persons, Done. YOLO:(0.051s), DeepSort:(0.135s)\n"
     ]
    },
    {
     "name": "stdout",
     "output_type": "stream",
     "text": [
      "visualise:False\n"
     ]
    },
    {
     "name": "stderr",
     "output_type": "stream",
     "text": [
      "video 1/1 (93/4847) /media/user/New Volume/MTech/ITSS/WildTrack_dataset/cam7_short1.mp4: 384x640 38 persons, Done. YOLO:(0.046s), DeepSort:(0.137s)\n",
      "video 1/1 (94/4847) /media/user/New Volume/MTech/ITSS/WildTrack_dataset/cam7_short1.mp4: 384x640 37 persons, Done. YOLO:(0.041s), DeepSort:(0.130s)\n"
     ]
    },
    {
     "name": "stdout",
     "output_type": "stream",
     "text": [
      "visualise:False\n"
     ]
    },
    {
     "name": "stderr",
     "output_type": "stream",
     "text": [
      "video 1/1 (95/4847) /media/user/New Volume/MTech/ITSS/WildTrack_dataset/cam7_short1.mp4: 384x640 39 persons, Done. YOLO:(0.043s), DeepSort:(0.118s)\n"
     ]
    },
    {
     "name": "stdout",
     "output_type": "stream",
     "text": [
      "visualise:False\n",
      "visualise:False\n"
     ]
    },
    {
     "name": "stderr",
     "output_type": "stream",
     "text": [
      "video 1/1 (96/4847) /media/user/New Volume/MTech/ITSS/WildTrack_dataset/cam7_short1.mp4: 384x640 39 persons, Done. YOLO:(0.048s), DeepSort:(0.157s)\n",
      "video 1/1 (97/4847) /media/user/New Volume/MTech/ITSS/WildTrack_dataset/cam7_short1.mp4: 384x640 40 persons, Done. YOLO:(0.039s), DeepSort:(0.124s)\n"
     ]
    },
    {
     "name": "stdout",
     "output_type": "stream",
     "text": [
      "visualise:False\n",
      "visualise:False\n"
     ]
    },
    {
     "name": "stderr",
     "output_type": "stream",
     "text": [
      "video 1/1 (98/4847) /media/user/New Volume/MTech/ITSS/WildTrack_dataset/cam7_short1.mp4: 384x640 40 persons, Done. YOLO:(0.048s), DeepSort:(0.134s)\n",
      "video 1/1 (99/4847) /media/user/New Volume/MTech/ITSS/WildTrack_dataset/cam7_short1.mp4: 384x640 36 persons, Done. YOLO:(0.042s), DeepSort:(0.132s)\n"
     ]
    },
    {
     "name": "stdout",
     "output_type": "stream",
     "text": [
      "visualise:False\n"
     ]
    },
    {
     "name": "stderr",
     "output_type": "stream",
     "text": [
      "video 1/1 (100/4847) /media/user/New Volume/MTech/ITSS/WildTrack_dataset/cam7_short1.mp4: 384x640 37 persons, Done. YOLO:(0.042s), DeepSort:(0.127s)\n"
     ]
    },
    {
     "name": "stdout",
     "output_type": "stream",
     "text": [
      "visualise:False\n",
      "visualise:False\n"
     ]
    },
    {
     "name": "stderr",
     "output_type": "stream",
     "text": [
      "video 1/1 (101/4847) /media/user/New Volume/MTech/ITSS/WildTrack_dataset/cam7_short1.mp4: 384x640 38 persons, Done. YOLO:(0.045s), DeepSort:(0.164s)\n"
     ]
    },
    {
     "name": "stdout",
     "output_type": "stream",
     "text": [
      "visualise:False\n"
     ]
    },
    {
     "name": "stderr",
     "output_type": "stream",
     "text": [
      "video 1/1 (102/4847) /media/user/New Volume/MTech/ITSS/WildTrack_dataset/cam7_short1.mp4: 384x640 39 persons, Done. YOLO:(0.045s), DeepSort:(0.130s)\n"
     ]
    },
    {
     "name": "stdout",
     "output_type": "stream",
     "text": [
      "visualise:False\n"
     ]
    },
    {
     "name": "stderr",
     "output_type": "stream",
     "text": [
      "video 1/1 (103/4847) /media/user/New Volume/MTech/ITSS/WildTrack_dataset/cam7_short1.mp4: 384x640 35 persons, Done. YOLO:(0.037s), DeepSort:(0.114s)\n",
      "video 1/1 (104/4847) /media/user/New Volume/MTech/ITSS/WildTrack_dataset/cam7_short1.mp4: 384x640 35 persons, Done. YOLO:(0.041s), DeepSort:(0.114s)\n"
     ]
    },
    {
     "name": "stdout",
     "output_type": "stream",
     "text": [
      "visualise:False\n",
      "visualise:False\n"
     ]
    },
    {
     "name": "stderr",
     "output_type": "stream",
     "text": [
      "video 1/1 (105/4847) /media/user/New Volume/MTech/ITSS/WildTrack_dataset/cam7_short1.mp4: 384x640 36 persons, Done. YOLO:(0.043s), DeepSort:(0.143s)\n",
      "video 1/1 (106/4847) /media/user/New Volume/MTech/ITSS/WildTrack_dataset/cam7_short1.mp4: 384x640 36 persons, Done. YOLO:(0.041s), DeepSort:(0.105s)\n"
     ]
    },
    {
     "name": "stdout",
     "output_type": "stream",
     "text": [
      "visualise:False\n",
      "visualise:False\n"
     ]
    },
    {
     "name": "stderr",
     "output_type": "stream",
     "text": [
      "video 1/1 (107/4847) /media/user/New Volume/MTech/ITSS/WildTrack_dataset/cam7_short1.mp4: 384x640 35 persons, Done. YOLO:(0.047s), DeepSort:(0.110s)\n",
      "video 1/1 (108/4847) /media/user/New Volume/MTech/ITSS/WildTrack_dataset/cam7_short1.mp4: 384x640 38 persons, Done. YOLO:(0.052s), DeepSort:(0.130s)\n"
     ]
    },
    {
     "name": "stdout",
     "output_type": "stream",
     "text": [
      "visualise:False\n"
     ]
    },
    {
     "name": "stderr",
     "output_type": "stream",
     "text": [
      "video 1/1 (109/4847) /media/user/New Volume/MTech/ITSS/WildTrack_dataset/cam7_short1.mp4: 384x640 36 persons, Done. YOLO:(0.044s), DeepSort:(0.104s)\n"
     ]
    },
    {
     "name": "stdout",
     "output_type": "stream",
     "text": [
      "visualise:False\n",
      "visualise:False\n"
     ]
    },
    {
     "name": "stderr",
     "output_type": "stream",
     "text": [
      "video 1/1 (110/4847) /media/user/New Volume/MTech/ITSS/WildTrack_dataset/cam7_short1.mp4: 384x640 36 persons, Done. YOLO:(0.052s), DeepSort:(0.122s)\n",
      "video 1/1 (111/4847) /media/user/New Volume/MTech/ITSS/WildTrack_dataset/cam7_short1.mp4: 384x640 36 persons, Done. YOLO:(0.048s), DeepSort:(0.117s)\n"
     ]
    },
    {
     "name": "stdout",
     "output_type": "stream",
     "text": [
      "visualise:False\n"
     ]
    },
    {
     "name": "stderr",
     "output_type": "stream",
     "text": [
      "video 1/1 (112/4847) /media/user/New Volume/MTech/ITSS/WildTrack_dataset/cam7_short1.mp4: 384x640 36 persons, Done. YOLO:(0.043s), DeepSort:(0.110s)\n"
     ]
    },
    {
     "name": "stdout",
     "output_type": "stream",
     "text": [
      "visualise:False\n",
      "visualise:False\n"
     ]
    },
    {
     "name": "stderr",
     "output_type": "stream",
     "text": [
      "video 1/1 (113/4847) /media/user/New Volume/MTech/ITSS/WildTrack_dataset/cam7_short1.mp4: 384x640 37 persons, Done. YOLO:(0.042s), DeepSort:(0.272s)\n",
      "video 1/1 (114/4847) /media/user/New Volume/MTech/ITSS/WildTrack_dataset/cam7_short1.mp4: 384x640 37 persons, Done. YOLO:(0.044s), DeepSort:(0.109s)\n"
     ]
    },
    {
     "name": "stdout",
     "output_type": "stream",
     "text": [
      "visualise:False\n",
      "visualise:False\n"
     ]
    },
    {
     "name": "stderr",
     "output_type": "stream",
     "text": [
      "video 1/1 (115/4847) /media/user/New Volume/MTech/ITSS/WildTrack_dataset/cam7_short1.mp4: 384x640 39 persons, Done. YOLO:(0.042s), DeepSort:(0.117s)\n",
      "video 1/1 (116/4847) /media/user/New Volume/MTech/ITSS/WildTrack_dataset/cam7_short1.mp4: 384x640 35 persons, Done. YOLO:(0.050s), DeepSort:(0.112s)\n"
     ]
    },
    {
     "name": "stdout",
     "output_type": "stream",
     "text": [
      "visualise:False\n"
     ]
    },
    {
     "name": "stderr",
     "output_type": "stream",
     "text": [
      "video 1/1 (117/4847) /media/user/New Volume/MTech/ITSS/WildTrack_dataset/cam7_short1.mp4: 384x640 40 persons, Done. YOLO:(0.039s), DeepSort:(0.123s)\n"
     ]
    },
    {
     "name": "stdout",
     "output_type": "stream",
     "text": [
      "visualise:False\n",
      "visualise:False\n"
     ]
    },
    {
     "name": "stderr",
     "output_type": "stream",
     "text": [
      "video 1/1 (118/4847) /media/user/New Volume/MTech/ITSS/WildTrack_dataset/cam7_short1.mp4: 384x640 38 persons, Done. YOLO:(0.043s), DeepSort:(0.125s)\n",
      "video 1/1 (119/4847) /media/user/New Volume/MTech/ITSS/WildTrack_dataset/cam7_short1.mp4: 384x640 38 persons, Done. YOLO:(0.042s), DeepSort:(0.118s)\n"
     ]
    },
    {
     "name": "stdout",
     "output_type": "stream",
     "text": [
      "visualise:False\n",
      "visualise:False\n"
     ]
    },
    {
     "name": "stderr",
     "output_type": "stream",
     "text": [
      "video 1/1 (120/4847) /media/user/New Volume/MTech/ITSS/WildTrack_dataset/cam7_short1.mp4: 384x640 40 persons, Done. YOLO:(0.044s), DeepSort:(0.151s)\n"
     ]
    },
    {
     "name": "stdout",
     "output_type": "stream",
     "text": [
      "visualise:False\n"
     ]
    },
    {
     "name": "stderr",
     "output_type": "stream",
     "text": [
      "video 1/1 (121/4847) /media/user/New Volume/MTech/ITSS/WildTrack_dataset/cam7_short1.mp4: 384x640 42 persons, Done. YOLO:(0.049s), DeepSort:(0.140s)\n",
      "video 1/1 (122/4847) /media/user/New Volume/MTech/ITSS/WildTrack_dataset/cam7_short1.mp4: 384x640 36 persons, Done. YOLO:(0.039s), DeepSort:(0.107s)\n"
     ]
    },
    {
     "name": "stdout",
     "output_type": "stream",
     "text": [
      "visualise:False\n",
      "visualise:False\n"
     ]
    },
    {
     "name": "stderr",
     "output_type": "stream",
     "text": [
      "video 1/1 (123/4847) /media/user/New Volume/MTech/ITSS/WildTrack_dataset/cam7_short1.mp4: 384x640 38 persons, Done. YOLO:(0.042s), DeepSort:(0.109s)\n"
     ]
    },
    {
     "name": "stdout",
     "output_type": "stream",
     "text": [
      "visualise:False\n"
     ]
    },
    {
     "name": "stderr",
     "output_type": "stream",
     "text": [
      "video 1/1 (124/4847) /media/user/New Volume/MTech/ITSS/WildTrack_dataset/cam7_short1.mp4: 384x640 40 persons, Done. YOLO:(0.039s), DeepSort:(0.159s)\n"
     ]
    },
    {
     "name": "stdout",
     "output_type": "stream",
     "text": [
      "visualise:False\n"
     ]
    },
    {
     "name": "stderr",
     "output_type": "stream",
     "text": [
      "video 1/1 (125/4847) /media/user/New Volume/MTech/ITSS/WildTrack_dataset/cam7_short1.mp4: 384x640 40 persons, Done. YOLO:(0.047s), DeepSort:(0.144s)\n"
     ]
    },
    {
     "name": "stdout",
     "output_type": "stream",
     "text": [
      "visualise:False\n"
     ]
    },
    {
     "name": "stderr",
     "output_type": "stream",
     "text": [
      "video 1/1 (126/4847) /media/user/New Volume/MTech/ITSS/WildTrack_dataset/cam7_short1.mp4: 384x640 40 persons, Done. YOLO:(0.040s), DeepSort:(0.133s)\n"
     ]
    },
    {
     "name": "stdout",
     "output_type": "stream",
     "text": [
      "visualise:False\n"
     ]
    },
    {
     "name": "stderr",
     "output_type": "stream",
     "text": [
      "video 1/1 (127/4847) /media/user/New Volume/MTech/ITSS/WildTrack_dataset/cam7_short1.mp4: 384x640 39 persons, Done. YOLO:(0.042s), DeepSort:(0.148s)\n",
      "video 1/1 (128/4847) /media/user/New Volume/MTech/ITSS/WildTrack_dataset/cam7_short1.mp4: 384x640 39 persons, Done. YOLO:(0.036s), DeepSort:(0.128s)\n"
     ]
    },
    {
     "name": "stdout",
     "output_type": "stream",
     "text": [
      "visualise:False\n"
     ]
    },
    {
     "name": "stderr",
     "output_type": "stream",
     "text": [
      "video 1/1 (129/4847) /media/user/New Volume/MTech/ITSS/WildTrack_dataset/cam7_short1.mp4: 384x640 40 persons, Done. YOLO:(0.047s), DeepSort:(0.121s)\n"
     ]
    },
    {
     "name": "stdout",
     "output_type": "stream",
     "text": [
      "visualise:False\n"
     ]
    },
    {
     "name": "stderr",
     "output_type": "stream",
     "text": [
      "video 1/1 (130/4847) /media/user/New Volume/MTech/ITSS/WildTrack_dataset/cam7_short1.mp4: 384x640 40 persons, Done. YOLO:(0.042s), DeepSort:(0.118s)\n"
     ]
    },
    {
     "name": "stdout",
     "output_type": "stream",
     "text": [
      "visualise:False\n"
     ]
    },
    {
     "name": "stderr",
     "output_type": "stream",
     "text": [
      "video 1/1 (131/4847) /media/user/New Volume/MTech/ITSS/WildTrack_dataset/cam7_short1.mp4: 384x640 41 persons, Done. YOLO:(0.041s), DeepSort:(0.128s)\n"
     ]
    },
    {
     "name": "stdout",
     "output_type": "stream",
     "text": [
      "visualise:False\n"
     ]
    },
    {
     "name": "stderr",
     "output_type": "stream",
     "text": [
      "video 1/1 (132/4847) /media/user/New Volume/MTech/ITSS/WildTrack_dataset/cam7_short1.mp4: 384x640 37 persons, Done. YOLO:(0.044s), DeepSort:(0.103s)\n"
     ]
    },
    {
     "name": "stdout",
     "output_type": "stream",
     "text": [
      "visualise:False\n",
      "visualise:False\n"
     ]
    },
    {
     "name": "stderr",
     "output_type": "stream",
     "text": [
      "video 1/1 (133/4847) /media/user/New Volume/MTech/ITSS/WildTrack_dataset/cam7_short1.mp4: 384x640 34 persons, Done. YOLO:(0.070s), DeepSort:(0.121s)\n"
     ]
    },
    {
     "name": "stdout",
     "output_type": "stream",
     "text": [
      "visualise:False\n"
     ]
    },
    {
     "name": "stderr",
     "output_type": "stream",
     "text": [
      "video 1/1 (134/4847) /media/user/New Volume/MTech/ITSS/WildTrack_dataset/cam7_short1.mp4: 384x640 36 persons, Done. YOLO:(0.038s), DeepSort:(0.154s)\n"
     ]
    },
    {
     "name": "stdout",
     "output_type": "stream",
     "text": [
      "visualise:False\n"
     ]
    },
    {
     "name": "stderr",
     "output_type": "stream",
     "text": [
      "video 1/1 (135/4847) /media/user/New Volume/MTech/ITSS/WildTrack_dataset/cam7_short1.mp4: 384x640 38 persons, Done. YOLO:(0.062s), DeepSort:(0.124s)\n",
      "video 1/1 (136/4847) /media/user/New Volume/MTech/ITSS/WildTrack_dataset/cam7_short1.mp4: 384x640 39 persons, Done. YOLO:(0.037s), DeepSort:(0.100s)\n"
     ]
    },
    {
     "name": "stdout",
     "output_type": "stream",
     "text": [
      "visualise:False\n",
      "visualise:False\n"
     ]
    },
    {
     "name": "stderr",
     "output_type": "stream",
     "text": [
      "video 1/1 (137/4847) /media/user/New Volume/MTech/ITSS/WildTrack_dataset/cam7_short1.mp4: 384x640 39 persons, Done. YOLO:(0.050s), DeepSort:(0.120s)\n",
      "video 1/1 (138/4847) /media/user/New Volume/MTech/ITSS/WildTrack_dataset/cam7_short1.mp4: 384x640 39 persons, Done. YOLO:(0.047s), DeepSort:(0.121s)\n"
     ]
    },
    {
     "name": "stdout",
     "output_type": "stream",
     "text": [
      "visualise:False\n",
      "visualise:False\n"
     ]
    },
    {
     "name": "stderr",
     "output_type": "stream",
     "text": [
      "video 1/1 (139/4847) /media/user/New Volume/MTech/ITSS/WildTrack_dataset/cam7_short1.mp4: 384x640 40 persons, Done. YOLO:(0.050s), DeepSort:(0.154s)\n",
      "video 1/1 (140/4847) /media/user/New Volume/MTech/ITSS/WildTrack_dataset/cam7_short1.mp4: 384x640 38 persons, Done. YOLO:(0.043s), DeepSort:(0.116s)\n"
     ]
    },
    {
     "name": "stdout",
     "output_type": "stream",
     "text": [
      "visualise:False\n",
      "visualise:False\n"
     ]
    },
    {
     "name": "stderr",
     "output_type": "stream",
     "text": [
      "video 1/1 (141/4847) /media/user/New Volume/MTech/ITSS/WildTrack_dataset/cam7_short1.mp4: 384x640 37 persons, Done. YOLO:(0.048s), DeepSort:(0.148s)\n",
      "video 1/1 (142/4847) /media/user/New Volume/MTech/ITSS/WildTrack_dataset/cam7_short1.mp4: 384x640 37 persons, Done. YOLO:(0.038s), DeepSort:(0.126s)\n"
     ]
    },
    {
     "name": "stdout",
     "output_type": "stream",
     "text": [
      "visualise:False\n"
     ]
    },
    {
     "name": "stderr",
     "output_type": "stream",
     "text": [
      "video 1/1 (143/4847) /media/user/New Volume/MTech/ITSS/WildTrack_dataset/cam7_short1.mp4: 384x640 37 persons, Done. YOLO:(0.043s), DeepSort:(0.111s)\n"
     ]
    },
    {
     "name": "stdout",
     "output_type": "stream",
     "text": [
      "visualise:False\n",
      "visualise:False\n"
     ]
    },
    {
     "name": "stderr",
     "output_type": "stream",
     "text": [
      "video 1/1 (144/4847) /media/user/New Volume/MTech/ITSS/WildTrack_dataset/cam7_short1.mp4: 384x640 42 persons, Done. YOLO:(0.044s), DeepSort:(0.146s)\n",
      "video 1/1 (145/4847) /media/user/New Volume/MTech/ITSS/WildTrack_dataset/cam7_short1.mp4: 384x640 43 persons, Done. YOLO:(0.039s), DeepSort:(0.113s)\n"
     ]
    },
    {
     "name": "stdout",
     "output_type": "stream",
     "text": [
      "visualise:False\n",
      "visualise:False\n"
     ]
    },
    {
     "name": "stderr",
     "output_type": "stream",
     "text": [
      "video 1/1 (146/4847) /media/user/New Volume/MTech/ITSS/WildTrack_dataset/cam7_short1.mp4: 384x640 39 persons, Done. YOLO:(0.048s), DeepSort:(0.134s)\n",
      "video 1/1 (147/4847) /media/user/New Volume/MTech/ITSS/WildTrack_dataset/cam7_short1.mp4: 384x640 38 persons, Done. YOLO:(0.053s), DeepSort:(0.128s)\n"
     ]
    },
    {
     "name": "stdout",
     "output_type": "stream",
     "text": [
      "visualise:False\n"
     ]
    },
    {
     "name": "stderr",
     "output_type": "stream",
     "text": [
      "video 1/1 (148/4847) /media/user/New Volume/MTech/ITSS/WildTrack_dataset/cam7_short1.mp4: 384x640 38 persons, Done. YOLO:(0.049s), DeepSort:(0.120s)\n"
     ]
    },
    {
     "name": "stdout",
     "output_type": "stream",
     "text": [
      "visualise:False\n"
     ]
    },
    {
     "name": "stderr",
     "output_type": "stream",
     "text": [
      "video 1/1 (149/4847) /media/user/New Volume/MTech/ITSS/WildTrack_dataset/cam7_short1.mp4: 384x640 41 persons, Done. YOLO:(0.039s), DeepSort:(0.126s)\n"
     ]
    },
    {
     "name": "stdout",
     "output_type": "stream",
     "text": [
      "visualise:False\n"
     ]
    },
    {
     "name": "stderr",
     "output_type": "stream",
     "text": [
      "video 1/1 (150/4847) /media/user/New Volume/MTech/ITSS/WildTrack_dataset/cam7_short1.mp4: 384x640 39 persons, Done. YOLO:(0.038s), DeepSort:(0.134s)\n"
     ]
    },
    {
     "name": "stdout",
     "output_type": "stream",
     "text": [
      "visualise:False\n",
      "visualise:False\n"
     ]
    },
    {
     "name": "stderr",
     "output_type": "stream",
     "text": [
      "video 1/1 (151/4847) /media/user/New Volume/MTech/ITSS/WildTrack_dataset/cam7_short1.mp4: 384x640 41 persons, Done. YOLO:(0.047s), DeepSort:(0.191s)\n",
      "video 1/1 (152/4847) /media/user/New Volume/MTech/ITSS/WildTrack_dataset/cam7_short1.mp4: 384x640 40 persons, Done. YOLO:(0.043s), DeepSort:(0.128s)\n"
     ]
    },
    {
     "name": "stdout",
     "output_type": "stream",
     "text": [
      "visualise:False\n"
     ]
    },
    {
     "name": "stderr",
     "output_type": "stream",
     "text": [
      "video 1/1 (153/4847) /media/user/New Volume/MTech/ITSS/WildTrack_dataset/cam7_short1.mp4: 384x640 38 persons, Done. YOLO:(0.038s), DeepSort:(0.131s)\n"
     ]
    },
    {
     "name": "stdout",
     "output_type": "stream",
     "text": [
      "visualise:False\n",
      "visualise:False\n"
     ]
    },
    {
     "name": "stderr",
     "output_type": "stream",
     "text": [
      "video 1/1 (154/4847) /media/user/New Volume/MTech/ITSS/WildTrack_dataset/cam7_short1.mp4: 384x640 41 persons, Done. YOLO:(0.045s), DeepSort:(0.147s)\n",
      "video 1/1 (155/4847) /media/user/New Volume/MTech/ITSS/WildTrack_dataset/cam7_short1.mp4: 384x640 39 persons, Done. YOLO:(0.035s), DeepSort:(0.123s)\n"
     ]
    },
    {
     "name": "stdout",
     "output_type": "stream",
     "text": [
      "visualise:False\n",
      "visualise:False\n"
     ]
    },
    {
     "name": "stderr",
     "output_type": "stream",
     "text": [
      "video 1/1 (156/4847) /media/user/New Volume/MTech/ITSS/WildTrack_dataset/cam7_short1.mp4: 384x640 41 persons, Done. YOLO:(0.041s), DeepSort:(0.227s)\n"
     ]
    },
    {
     "name": "stdout",
     "output_type": "stream",
     "text": [
      "visualise:False\n"
     ]
    },
    {
     "name": "stderr",
     "output_type": "stream",
     "text": [
      "video 1/1 (157/4847) /media/user/New Volume/MTech/ITSS/WildTrack_dataset/cam7_short1.mp4: 384x640 40 persons, Done. YOLO:(0.037s), DeepSort:(0.142s)\n",
      "video 1/1 (158/4847) /media/user/New Volume/MTech/ITSS/WildTrack_dataset/cam7_short1.mp4: 384x640 39 persons, Done. YOLO:(0.031s), DeepSort:(0.134s)\n"
     ]
    },
    {
     "name": "stdout",
     "output_type": "stream",
     "text": [
      "visualise:False\n",
      "visualise:False\n"
     ]
    },
    {
     "name": "stderr",
     "output_type": "stream",
     "text": [
      "video 1/1 (159/4847) /media/user/New Volume/MTech/ITSS/WildTrack_dataset/cam7_short1.mp4: 384x640 41 persons, Done. YOLO:(0.037s), DeepSort:(0.165s)\n",
      "video 1/1 (160/4847) /media/user/New Volume/MTech/ITSS/WildTrack_dataset/cam7_short1.mp4: 384x640 38 persons, Done. YOLO:(0.038s), DeepSort:(0.126s)\n"
     ]
    },
    {
     "name": "stdout",
     "output_type": "stream",
     "text": [
      "visualise:False\n"
     ]
    }
   ],
   "source": [
    "for frame_idx, (path, img, im0s, vid_cap, s) in enumerate(dataset):\n",
    "    t1 = time_sync()\n",
    "    img = torch.from_numpy(img).to(device)\n",
    "    img = img.half() if half else img.float()  # uint8 to fp16/32\n",
    "    img /= 255.0  # 0 - 255 to 0.0 - 1.0\n",
    "    if img.ndimension() == 3:\n",
    "        img = img.unsqueeze(0)\n",
    "    t2 = time_sync()\n",
    "    dt[0] += t2 - t1\n",
    "\n",
    "    # Inference\n",
    "    visualize = increment_path(save_dir / Path(path).stem, mkdir=True) if visual else False\n",
    "    pred = model(img, augment=augment, visualize=visualize)\n",
    "    t3 = time_sync()\n",
    "    dt[1] += t3 - t2\n",
    "\n",
    "    # Apply NMS\n",
    "    pred = non_max_suppression(pred, conf_thres, iou_thres, classes, agnostic_nms, max_det=max_det)\n",
    "    dt[2] += time_sync() - t3\n",
    "\n",
    "    # Process detections\n",
    "    for i, det in enumerate(pred):  # detections per image\n",
    "        seen += 1\n",
    "        p, im0, _ = path, im0s.copy(), getattr(dataset, 'frame', 0)\n",
    "\n",
    "        p = Path(p)  # to Path\n",
    "        save_path = str(save_dir / p.name)  # im.jpg, vid.mp4, ...\n",
    "        s += '%gx%g ' % img.shape[2:]  # print string\n",
    "\n",
    "        annotator = Annotator(im0, line_width=2, pil=not ascii)\n",
    "\n",
    "        if det is not None and len(det):\n",
    "            # Rescale boxes from img_size to im0 size\n",
    "            det[:, :4] = scale_coords(\n",
    "                img.shape[2:], det[:, :4], im0.shape).round()\n",
    "\n",
    "            # Print results\n",
    "            for c in det[:, -1].unique():\n",
    "                n = (det[:, -1] == c).sum()  # detections per class\n",
    "                s += f\"{n} {names[int(c)]}{'s' * (n > 1)}, \"  # add to string\n",
    "\n",
    "            xywhs = xyxy2xywh(det[:, 0:4])\n",
    "            confs = det[:, 4]\n",
    "            clss = det[:, 5]\n",
    "\n",
    "            # pass detections to deepsort\n",
    "            t4 = time_sync()\n",
    "            outputs = deepsort.update(xywhs.cpu(), confs.cpu(), clss.cpu(), im0)\n",
    "            t5 = time_sync()\n",
    "            dt[3] += t5 - t4\n",
    "\n",
    "            # draw boxes for visualization\n",
    "            if len(outputs) > 0:\n",
    "                for j, (output, conf) in enumerate(zip(outputs, confs)):\n",
    "\n",
    "                    bboxes = output[0:4]\n",
    "                    id = output[4]\n",
    "                    cls = output[5]\n",
    "\n",
    "                    c = int(cls)  # integer class\n",
    "                    label = f'{id} {names[c]} {conf:.2f}'\n",
    "                    annotator.box_label(bboxes, label, color=colors(c, True))\n",
    "\n",
    "                    if save_txt:\n",
    "                        # to MOT format\n",
    "                        bbox_left = output[0]\n",
    "                        bbox_top = output[1]\n",
    "                        bbox_w = output[2] - output[0]\n",
    "                        bbox_h = output[3] - output[1]\n",
    "                        # Write MOT compliant results to file\n",
    "                        with open(txt_path, 'a') as f:\n",
    "                            f.write(('%g ' * 10 + '\\n') % (frame_idx + 1, id, bbox_left,  # MOT format\n",
    "                                                            bbox_top, bbox_w, bbox_h, -1, -1, -1, -1))\n",
    "\n",
    "            LOGGER.info(f'{s}Done. YOLO:({t3 - t2:.3f}s), DeepSort:({t5 - t4:.3f}s)')\n",
    "\n",
    "        else:\n",
    "            deepsort.increment_ages()\n",
    "            LOGGER.info('No detections')\n",
    "\n",
    "        # Stream results\n",
    "        im0 = annotator.result()\n",
    "        if show_vid:\n",
    "            cv2.imshow(str(p), im0)\n",
    "            if cv2.waitKey(1) == ord('q'):  # q to quit\n",
    "                raise StopIteration\n",
    "\n",
    "        # # Save results (image with detections)\n",
    "        # if save_vid:\n",
    "        #     if vid_path != save_path:  # new video\n",
    "        #         vid_path = save_path\n",
    "        #         if isinstance(vid_writer, cv2.VideoWriter):\n",
    "        #             vid_writer.release()  # release previous video writer\n",
    "        #         if vid_cap:  # video\n",
    "        #             fps = vid_cap.get(cv2.CAP_PROP_FPS)\n",
    "        #             w = int(vid_cap.get(cv2.CAP_PROP_FRAME_WIDTH))\n",
    "        #             h = int(vid_cap.get(cv2.CAP_PROP_FRAME_HEIGHT))\n",
    "        #         else:  # stream\n",
    "        #             fps, w, h = 30, im0.shape[1], im0.shape[0]\n",
    "\n",
    "        #         vid_writer = cv2.VideoWriter(save_path, cv2.VideoWriter_fourcc(*'mp4v'), fps, (w, h))\n",
    "        #     vid_writer.write(im0)"
   ]
  }
 ],
 "metadata": {
  "interpreter": {
   "hash": "5309b996a778008cb63ffe24657c166d11607c2f27e123efebc8da9280bc2070"
  },
  "kernelspec": {
   "display_name": "Python 3.8.12 64-bit ('itss': conda)",
   "name": "python3"
  },
  "language_info": {
   "codemirror_mode": {
    "name": "ipython",
    "version": 3
   },
   "file_extension": ".py",
   "mimetype": "text/x-python",
   "name": "python",
   "nbconvert_exporter": "python",
   "pygments_lexer": "ipython3",
   "version": "3.8.12"
  },
  "orig_nbformat": 4
 },
 "nbformat": 4,
 "nbformat_minor": 2
}
